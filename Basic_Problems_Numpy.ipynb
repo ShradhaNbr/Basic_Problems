{
 "cells": [
  {
   "cell_type": "code",
   "execution_count": 1,
   "id": "95a1faad",
   "metadata": {},
   "outputs": [
    {
     "name": "stdout",
     "output_type": "stream",
     "text": [
      "Original List: [12.23, 13.32, 100, 36.32]\n",
      "One-dimensional NumPy array:  [ 12.23  13.32 100.    36.32]\n"
     ]
    }
   ],
   "source": [
    "# Convert list of numeric value into 1-D Numpy Array\n",
    "import numpy as np\n",
    "l= [12.23, 13.32, 100, 36.32] \n",
    "print(\"Original List:\",l)\n",
    "a = np.array(l)\n",
    "print(\"One-dimensional NumPy array: \",a)"
   ]
  },
  {
   "cell_type": "code",
   "execution_count": 2,
   "id": "5d9a9530",
   "metadata": {},
   "outputs": [
    {
     "name": "stdout",
     "output_type": "stream",
     "text": [
      "[[ 2  3  4]\n",
      " [ 5  6  7]\n",
      " [ 8  9 10]]\n"
     ]
    }
   ],
   "source": [
    "# Create a 3x3 matrix with values ranging from 2 to 10. \n",
    "x=np.arange(2,11).reshape(3,3)\n",
    "print(x)"
   ]
  },
  {
   "cell_type": "code",
   "execution_count": 3,
   "id": "3c4d1be4",
   "metadata": {},
   "outputs": [
    {
     "name": "stdout",
     "output_type": "stream",
     "text": [
      "[ 0.  0.  0.  0.  0.  0. 11.  0.  0.  0.]\n"
     ]
    }
   ],
   "source": [
    "# Create a null vector of size 10 and update sixth value to 11\n",
    "x=np.zeros(10)\n",
    "x[6] = 11\n",
    "print(x)"
   ]
  },
  {
   "cell_type": "code",
   "execution_count": 4,
   "id": "fa45ba51",
   "metadata": {},
   "outputs": [
    {
     "name": "stdout",
     "output_type": "stream",
     "text": [
      "[37 36 35 34 33 32 31 30 29 28 27 26 25 24 23 22 21 20 19 18 17 16 15 14\n",
      " 13 12]\n"
     ]
    }
   ],
   "source": [
    "# Reverse an array\n",
    "x = np.arange(12,38)\n",
    "x= x[::-1]\n",
    "print (x)"
   ]
  },
  {
   "cell_type": "code",
   "execution_count": 5,
   "id": "34346f2b",
   "metadata": {},
   "outputs": [
    {
     "name": "stdout",
     "output_type": "stream",
     "text": [
      "[[1. 1. 1. 1. 1.]\n",
      " [1. 0. 0. 0. 1.]\n",
      " [1. 0. 0. 0. 1.]\n",
      " [1. 0. 0. 0. 1.]\n",
      " [1. 1. 1. 1. 1.]]\n"
     ]
    }
   ],
   "source": [
    "# create a 2d array with 1 on the border and 0 inside\n",
    "x = np.ones((5,5))\n",
    "x[1:-1,1:-1]=0\n",
    "print(x)"
   ]
  },
  {
   "cell_type": "code",
   "execution_count": 6,
   "id": "76245e3e",
   "metadata": {},
   "outputs": [
    {
     "name": "stdout",
     "output_type": "stream",
     "text": [
      "[[0. 0. 0. 0. 0.]\n",
      " [0. 1. 1. 1. 0.]\n",
      " [0. 1. 1. 1. 0.]\n",
      " [0. 1. 1. 1. 0.]\n",
      " [0. 0. 0. 0. 0.]]\n"
     ]
    }
   ],
   "source": [
    "# Add a border (filled with 0's) around an existing array. \n",
    "x = np.ones((3,3))\n",
    "x = np.pad(x,pad_width=1, mode='constant', constant_values=0)\n",
    "print(x)\n"
   ]
  },
  {
   "cell_type": "code",
   "execution_count": 7,
   "id": "de752c33",
   "metadata": {},
   "outputs": [
    {
     "name": "stdout",
     "output_type": "stream",
     "text": [
      "[[0 1 0 1 0 1 0 1]\n",
      " [1 0 1 0 1 0 1 0]\n",
      " [0 1 0 1 0 1 0 1]\n",
      " [1 0 1 0 1 0 1 0]\n",
      " [0 1 0 1 0 1 0 1]\n",
      " [1 0 1 0 1 0 1 0]\n",
      " [0 1 0 1 0 1 0 1]\n",
      " [1 0 1 0 1 0 1 0]]\n"
     ]
    }
   ],
   "source": [
    "#  create a 8x8 matrix and fill it with a checkerboard pattern.\n",
    "x = np.zeros((8,8),dtype=int)\n",
    "x[1::2,::2]=1\n",
    "x[::2,1::2]=1\n",
    "print(x)"
   ]
  },
  {
   "cell_type": "code",
   "execution_count": 8,
   "id": "f13bffc7",
   "metadata": {},
   "outputs": [
    {
     "name": "stdout",
     "output_type": "stream",
     "text": [
      "[1 2 3 4 5 6 7 8]\n",
      "[[8 4 6]\n",
      " [1 2 3]]\n"
     ]
    }
   ],
   "source": [
    "# convert a list and tuple into arrays\n",
    "l = [1,2,3,4,5,6,7,8]\n",
    "a1 = np.asarray(l)\n",
    "print(a1)\n",
    "t = ([8, 4, 6], [1, 2, 3])\n",
    "a2 = np.asarray(t)\n",
    "print(a2)"
   ]
  },
  {
   "cell_type": "code",
   "execution_count": 9,
   "id": "6ff6f93e",
   "metadata": {},
   "outputs": [
    {
     "name": "stdout",
     "output_type": "stream",
     "text": [
      "[10 20 30 40 50 60 70 80 90]\n"
     ]
    }
   ],
   "source": [
    "#  append values to the end of an array.\n",
    "arr = [10, 20, 30] \n",
    "arr = np.append(arr, [40,50,60,70,80,90])\n",
    "print(arr)"
   ]
  },
  {
   "cell_type": "code",
   "execution_count": 10,
   "id": "d8b7baae",
   "metadata": {},
   "outputs": [
    {
     "name": "stdout",
     "output_type": "stream",
     "text": [
      "[1.        +0.j         0.70710678+0.70710678j]\n",
      "Real value: 1.0\n",
      "Imaginary value: 0.0\n",
      "Real value: 0.70710678\n",
      "Imaginary value: 0.70710678\n"
     ]
    }
   ],
   "source": [
    "#  to find the real and imaginary parts of an array of complex numbers. \n",
    "num = [1.00000000 + 0.j, 0.70710678 + 0.70710678j]\n",
    "com_arr = np.array(num)\n",
    "print(com_arr)\n",
    "for i in range(len(com_arr)): \n",
    "    print(\"Real value:\", com_arr[i].real)\n",
    "    print(\"Imaginary value:\", com_arr[i].imag)"
   ]
  },
  {
   "cell_type": "code",
   "execution_count": 11,
   "id": "90850981",
   "metadata": {},
   "outputs": [
    {
     "name": "stdout",
     "output_type": "stream",
     "text": [
      "Size of array 3\n",
      "Length of one array element in bytes 8\n",
      "Total bytes consumed by elements of array 24\n"
     ]
    }
   ],
   "source": [
    "# to find the number of elements of an array, length of one array element in bytes and total bytes consumed by the elements\n",
    "array = np.array([1.0,3.3,5.2])\n",
    "print(\"Size of array\", array.size)\n",
    "print(\"Length of one array element in bytes\", array.itemsize)\n",
    "print(\"Total bytes consumed by elements of array\", array.nbytes)"
   ]
  },
  {
   "cell_type": "code",
   "execution_count": 12,
   "id": "0cc3aadf",
   "metadata": {},
   "outputs": [
    {
     "name": "stdout",
     "output_type": "stream",
     "text": [
      "[10 40]\n"
     ]
    }
   ],
   "source": [
    "# find common values between two arrays.\n",
    "x = np.array([0, 10, 20, 40, 60])\n",
    "y = np.array([10, 30, 40])\n",
    "print(np.intersect1d(x,y))"
   ]
  },
  {
   "cell_type": "code",
   "execution_count": 13,
   "id": "24246ad9",
   "metadata": {},
   "outputs": [
    {
     "name": "stdout",
     "output_type": "stream",
     "text": [
      "Set Difference between two arrays [ 0 20 60 80]\n"
     ]
    }
   ],
   "source": [
    "#  find the set difference of two arrays\n",
    "x =  np.array([0, 10, 20, 40, 60, 80])\n",
    "y =  np.array([10, 30, 40, 50, 70, 90])\n",
    "print(\"Set Difference between two arrays\", np.setdiff1d(x,y))"
   ]
  },
  {
   "cell_type": "code",
   "execution_count": 14,
   "id": "f5f133ea",
   "metadata": {},
   "outputs": [
    {
     "name": "stdout",
     "output_type": "stream",
     "text": [
      "Set exclusive between two arrays [ 0 20 30 50 60 70 80]\n"
     ]
    }
   ],
   "source": [
    "# find the set exclusive-or of two arrays\n",
    "x =  np.array([0, 10, 20, 40, 60, 80])\n",
    "y =  np.array([10, 30, 40, 50, 70])\n",
    "print(\"Set exclusive between two arrays\", np.setxor1d(x,y))"
   ]
  },
  {
   "cell_type": "code",
   "execution_count": 15,
   "id": "41165d56",
   "metadata": {},
   "outputs": [
    {
     "name": "stdout",
     "output_type": "stream",
     "text": [
      "False False True\n"
     ]
    }
   ],
   "source": [
    "# compare two arrays \n",
    "a = np.array([1,2])\n",
    "b = np.array([4,5])\n",
    "result1 = a > b\n",
    "result2 = a >= b\n",
    "result3 = a < b\n",
    "print(result1.all(), result2.all(), result3.all())"
   ]
  },
  {
   "cell_type": "code",
   "execution_count": 16,
   "id": "9beeeeb4",
   "metadata": {},
   "outputs": [],
   "source": [
    "# save a NumPy array to a text file\n",
    "  \n",
    "x = np.arange(0, 10, 1)\n",
    "c = np.savetxt('file.txt', x, delimiter =', ', fmt = '%s')   \n",
    "\n"
   ]
  },
  {
   "cell_type": "code",
   "execution_count": 17,
   "id": "36fb1240",
   "metadata": {},
   "outputs": [
    {
     "name": "stdout",
     "output_type": "stream",
     "text": [
      "New flattened array  [ 5  6  7  8  9 10]\n"
     ]
    }
   ],
   "source": [
    "# create a contiguous flattened array\n",
    "arr = np.array([[5,6,7],[8,9,10]])\n",
    "flattened_array = np.ravel(arr)\n",
    "print(\"New flattened array \", flattened_array)"
   ]
  },
  {
   "cell_type": "code",
   "execution_count": 18,
   "id": "ab2efe85",
   "metadata": {},
   "outputs": [
    {
     "name": "stdout",
     "output_type": "stream",
     "text": [
      "[10 20 30 40 50] \n",
      " int32\n",
      "[10. 20. 30. 40. 50.] \n",
      " float64\n"
     ]
    }
   ],
   "source": [
    "# change the data type of an array.\n",
    "arr = np.array([10,20,30,40,50])\n",
    "print( arr, \"\\n\", arr.dtype)\n",
    "arr = arr.astype('float')\n",
    "print(arr ,\"\\n\", arr.dtype)"
   ]
  },
  {
   "cell_type": "code",
   "execution_count": 19,
   "id": "6ebd0226",
   "metadata": {},
   "outputs": [
    {
     "name": "stdout",
     "output_type": "stream",
     "text": [
      "[[1. 0. 0.]\n",
      " [0. 1. 0.]\n",
      " [0. 0. 1.]]\n"
     ]
    }
   ],
   "source": [
    "# ones on a diagonal and zeros elsewhere. \n",
    "a = np.eye(3, dtype = float)\n",
    "print(a)"
   ]
  },
  {
   "cell_type": "code",
   "execution_count": 34,
   "id": "25feb54b",
   "metadata": {},
   "outputs": [
    {
     "name": "stdout",
     "output_type": "stream",
     "text": [
      "[[0. 0. 0.]\n",
      " [1. 0. 0.]\n",
      " [1. 1. 0.]\n",
      " [1. 1. 1.]]\n"
     ]
    }
   ],
   "source": [
    "# create array as below\n",
    "x = np.zeros((4,3))\n",
    "for i in range(1, len(x)):\n",
    "    x[i:i+1, 0:i] = 1\n",
    "print(x)"
   ]
  },
  {
   "cell_type": "code",
   "execution_count": 21,
   "id": "e9d82f95",
   "metadata": {
    "scrolled": true
   },
   "outputs": [
    {
     "name": "stdout",
     "output_type": "stream",
     "text": [
      "[[1 2 5 6]\n",
      " [3 4 7 8]]\n"
     ]
    }
   ],
   "source": [
    "# concatenate two 2-dimensional arrays.\n",
    "arr1 = np.arange(1,5).reshape(2,2)\n",
    "arr2 = np.arange(5,9).reshape(2,2)\n",
    "print(np.concatenate((arr1,arr2), axis = 1))"
   ]
  },
  {
   "cell_type": "code",
   "execution_count": 22,
   "id": "7a014cd1",
   "metadata": {},
   "outputs": [
    {
     "name": "stdout",
     "output_type": "stream",
     "text": [
      "[0. 0. 0. 0. 0. 0. 0. 0. 0. 0. 0.]\n",
      "[0. 2. 0. 0. 0. 0. 0. 0. 0. 0. 0.]\n"
     ]
    },
    {
     "ename": "ValueError",
     "evalue": "assignment destination is read-only",
     "output_type": "error",
     "traceback": [
      "\u001b[1;31m---------------------------------------------------------------------------\u001b[0m",
      "\u001b[1;31mValueError\u001b[0m                                Traceback (most recent call last)",
      "\u001b[1;32m~\\AppData\\Local\\Temp/ipykernel_7504/3316246595.py\u001b[0m in \u001b[0;36m<module>\u001b[1;34m\u001b[0m\n\u001b[0;32m      5\u001b[0m \u001b[0mprint\u001b[0m\u001b[1;33m(\u001b[0m\u001b[0ma\u001b[0m\u001b[1;33m)\u001b[0m\u001b[1;33m\u001b[0m\u001b[1;33m\u001b[0m\u001b[0m\n\u001b[0;32m      6\u001b[0m \u001b[0ma\u001b[0m\u001b[1;33m.\u001b[0m\u001b[0mflags\u001b[0m\u001b[1;33m.\u001b[0m\u001b[0mwriteable\u001b[0m \u001b[1;33m=\u001b[0m \u001b[1;32mFalse\u001b[0m\u001b[1;33m\u001b[0m\u001b[1;33m\u001b[0m\u001b[0m\n\u001b[1;32m----> 7\u001b[1;33m \u001b[0ma\u001b[0m\u001b[1;33m[\u001b[0m\u001b[1;36m1\u001b[0m\u001b[1;33m]\u001b[0m \u001b[1;33m=\u001b[0m \u001b[1;36m7\u001b[0m\u001b[1;33m\u001b[0m\u001b[1;33m\u001b[0m\u001b[0m\n\u001b[0m\u001b[0;32m      8\u001b[0m \u001b[0mprint\u001b[0m\u001b[1;33m(\u001b[0m\u001b[0ma\u001b[0m\u001b[1;33m)\u001b[0m\u001b[1;33m\u001b[0m\u001b[1;33m\u001b[0m\u001b[0m\n",
      "\u001b[1;31mValueError\u001b[0m: assignment destination is read-only"
     ]
    }
   ],
   "source": [
    "# program to make an array immutable (read-only). \n",
    "a = np.zeros(11)\n",
    "print(a)\n",
    "a[1] = 2\n",
    "print(a)\n",
    "a.flags.writeable = False\n",
    "a[1] = 7\n",
    "print(a)"
   ]
  },
  {
   "cell_type": "code",
   "execution_count": 23,
   "id": "307640ac",
   "metadata": {},
   "outputs": [
    {
     "name": "stdout",
     "output_type": "stream",
     "text": [
      "Original array\n",
      "  [[ 0  1  2  3]\n",
      " [ 4  5  6  7]\n",
      " [ 8  9 10 11]]\n",
      "New array eleents\n",
      "  [[ 0  3  6  9]\n",
      " [12 15 18 21]\n",
      " [24 27 30 33]]\n"
     ]
    }
   ],
   "source": [
    "# create an array of (3, 4) shape, multiply every element value by 3 and display the new array. \n",
    "a = np.arange(0,12).reshape(3,4)\n",
    "print(\"Original array\\n \", a)\n",
    "a*=3\n",
    "print(\"New array eleents\\n \", a)"
   ]
  },
  {
   "cell_type": "code",
   "execution_count": 24,
   "id": "bc3c715b",
   "metadata": {},
   "outputs": [
    {
     "name": "stdout",
     "output_type": "stream",
     "text": [
      "Array\n",
      "  [[0 1]\n",
      " [2 3]\n",
      " [4 5]]\n",
      "<class 'numpy.ndarray'>\n",
      "List  [[0, 1], [2, 3], [4, 5]]\n",
      "<class 'list'>\n"
     ]
    }
   ],
   "source": [
    "# convert a NumPy array into Python list structure. \n",
    "arr = np.array([[0 ,1] ,[2 ,3] ,[4,5]] )\n",
    "print(\"Array\\n \", arr)\n",
    "print(type(arr))\n",
    "lis = arr.tolist()\n",
    "print(\"List \", lis)\n",
    "print(type(lis))"
   ]
  },
  {
   "cell_type": "code",
   "execution_count": 25,
   "id": "0e2b0f9a",
   "metadata": {},
   "outputs": [
    {
     "name": "stdout",
     "output_type": "stream",
     "text": [
      "Array\n",
      "  [0.26153123 0.52760141 0.5718299  0.5927067  0.7831874  0.69746349\n",
      " 0.35399976 0.99469633 0.0694458  0.54711478]\n",
      "List  [0.262 0.528 0.572 0.593 0.783 0.697 0.354 0.995 0.069 0.547]\n"
     ]
    }
   ],
   "source": [
    "#  convert a NumPy array into Python list structure. \n",
    "arr = np.array([ 0.26153123, 0.52760141, 0.5718299, 0.5927067, 0.7831874, 0.69746349,0.35399976, 0.99469633, 0.0694458, 0.54711478] )\n",
    "print(\"Array\\n \", arr)\n",
    "lis = arr.tolist()\n",
    "roundoff = np.round_(lis, decimals = 3)\n",
    "print(\"List \", roundoff)"
   ]
  },
  {
   "cell_type": "code",
   "execution_count": 26,
   "id": "070efba5",
   "metadata": {},
   "outputs": [
    {
     "name": "stdout",
     "output_type": "stream",
     "text": [
      "Array values with precision 3 [   0.       1.6   1200.       0.235]\n"
     ]
    }
   ],
   "source": [
    "# program to suppresses the use of scientific notation for small numbers in numpy array.\n",
    "num = np.array([1.60000000e-10, 1.60000000e+00, 1.20000000e+03, 2.35000000e-01])\n",
    "np.set_printoptions(precision = 3, suppress = True)\n",
    "print(\"Array values with precision 3\", num)"
   ]
  },
  {
   "cell_type": "code",
   "execution_count": 27,
   "id": "b1c2d6b8",
   "metadata": {},
   "outputs": [
    {
     "name": "stdout",
     "output_type": "stream",
     "text": [
      "[[10 20 30]\n",
      " [40 50 60]]\n",
      "[[ 10  20  30 100]\n",
      " [ 40  50  60 200]]\n"
     ]
    }
   ],
   "source": [
    "#  add an extra column to an numpy array.\n",
    "arr = np.array([[10,20,30], [40,50,60]])\n",
    "print(arr)\n",
    "arr = np.append(arr, np.array([[100], [200]]), axis = 1)\n",
    "print(arr)"
   ]
  },
  {
   "cell_type": "code",
   "execution_count": 28,
   "id": "c6c9d85a",
   "metadata": {},
   "outputs": [
    {
     "name": "stdout",
     "output_type": "stream",
     "text": [
      "Original array [ 10  20  30  40  50  60  70  80  90 100]\n",
      "Array after deletion is  [ 20  30  60  70  80  90 100]\n"
     ]
    }
   ],
   "source": [
    "#  remove specific elements in a numpy array. \n",
    "a = np.array([ 10, 20, 30, 40, 50, 60, 70, 80, 90, 100])\n",
    "print(\"Original array\", a)\n",
    "a=np.delete(a,[0,3,4])\n",
    "print(\"Array after deletion is \",  a)"
   ]
  },
  {
   "cell_type": "code",
   "execution_count": null,
   "id": "17223c24",
   "metadata": {},
   "outputs": [],
   "source": []
  }
 ],
 "metadata": {
  "kernelspec": {
   "display_name": "Python 3 (ipykernel)",
   "language": "python",
   "name": "python3"
  },
  "language_info": {
   "codemirror_mode": {
    "name": "ipython",
    "version": 3
   },
   "file_extension": ".py",
   "mimetype": "text/x-python",
   "name": "python",
   "nbconvert_exporter": "python",
   "pygments_lexer": "ipython3",
   "version": "3.9.7"
  }
 },
 "nbformat": 4,
 "nbformat_minor": 5
}
